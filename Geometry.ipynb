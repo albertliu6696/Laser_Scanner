{
 "cells": [
  {
   "cell_type": "code",
   "execution_count": 50,
   "metadata": {
    "collapsed": true
   },
   "outputs": [],
   "source": [
    "import matplotlib.pyplot as plt\n",
    "import numpy as np"
   ]
  },
  {
   "cell_type": "code",
   "execution_count": 53,
   "metadata": {
    "collapsed": true
   },
   "outputs": [],
   "source": [
    "class Line:\n",
    "    def __init__(self,origin,angle):\n",
    "        self.origin = origin;\n",
    "        self.angle = angle;\n",
    "class Laser_Scanner:\n",
    "    def __init__(self, num_beams, angle, focal_point):\n",
    "        #assume odd\n",
    "        self.n = num_beams;\n",
    "        self.angle = angle*np.pi/180;\n",
    "        self.focal_point = focal_point;\n",
    "        self.lines = [];\n",
    "        self._create_lines();\n",
    "    def _create_lines(self):\n",
    "        for i in range(0,self.n):\n",
    "            self.lines.append(Line(self.focal_point,(i+-1*int(self.n/2))*self.angle));\n",
    "        "
   ]
  },
  {
   "cell_type": "code",
   "execution_count": 54,
   "metadata": {
    "collapsed": false
   },
   "outputs": [],
   "source": [
    "scanner = Laser_Scanner(45,20,[0,0])"
   ]
  },
  {
   "cell_type": "code",
   "execution_count": 55,
   "metadata": {
    "collapsed": false
   },
   "outputs": [
    {
     "name": "stdout",
     "output_type": "stream",
     "text": [
      "-7.67944870877505\n",
      "-7.330382858376184\n",
      "-6.981317007977318\n",
      "-6.632251157578452\n",
      "-6.283185307179586\n",
      "-5.93411945678072\n",
      "-5.585053606381854\n",
      "-5.235987755982989\n",
      "-4.886921905584122\n",
      "-4.537856055185257\n",
      "-4.1887902047863905\n",
      "-3.839724354387525\n",
      "-3.490658503988659\n",
      "-3.141592653589793\n",
      "-2.792526803190927\n",
      "-2.443460952792061\n",
      "-2.0943951023931953\n",
      "-1.7453292519943295\n",
      "-1.3962634015954636\n",
      "-1.0471975511965976\n",
      "-0.6981317007977318\n",
      "-0.3490658503988659\n",
      "0.0\n",
      "0.3490658503988659\n",
      "0.6981317007977318\n",
      "1.0471975511965976\n",
      "1.3962634015954636\n",
      "1.7453292519943295\n",
      "2.0943951023931953\n",
      "2.443460952792061\n",
      "2.792526803190927\n",
      "3.141592653589793\n",
      "3.490658503988659\n",
      "3.839724354387525\n",
      "4.1887902047863905\n",
      "4.537856055185257\n",
      "4.886921905584122\n",
      "5.235987755982989\n",
      "5.585053606381854\n",
      "5.93411945678072\n",
      "6.283185307179586\n",
      "6.632251157578452\n",
      "6.981317007977318\n",
      "7.330382858376184\n",
      "7.67944870877505\n"
     ]
    }
   ],
   "source": [
    "for line in scanner.lines:\n",
    "    print(line.angle)"
   ]
  },
  {
   "cell_type": "code",
   "execution_count": 56,
   "metadata": {
    "collapsed": false
   },
   "outputs": [
    {
     "data": {
      "text/plain": [
       "2"
      ]
     },
     "execution_count": 56,
     "metadata": {},
     "output_type": "execute_result"
    }
   ],
   "source": [
    "int(5/2)"
   ]
  },
  {
   "cell_type": "code",
   "execution_count": null,
   "metadata": {
    "collapsed": true
   },
   "outputs": [],
   "source": []
  },
  {
   "cell_type": "code",
   "execution_count": null,
   "metadata": {
    "collapsed": true
   },
   "outputs": [],
   "source": []
  }
 ],
 "metadata": {
  "kernelspec": {
   "display_name": "Python 3",
   "language": "python",
   "name": "python3"
  },
  "language_info": {
   "codemirror_mode": {
    "name": "ipython",
    "version": 3
   },
   "file_extension": ".py",
   "mimetype": "text/x-python",
   "name": "python",
   "nbconvert_exporter": "python",
   "pygments_lexer": "ipython3",
   "version": "3.6.0"
  }
 },
 "nbformat": 4,
 "nbformat_minor": 2
}
