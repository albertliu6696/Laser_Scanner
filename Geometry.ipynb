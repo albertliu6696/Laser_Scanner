{
 "cells": [
  {
   "cell_type": "code",
   "execution_count": 47,
   "metadata": {
    "collapsed": true
   },
   "outputs": [],
   "source": [
    "import matplotlib.pyplot as plt\n",
    "import numpy as np\n",
    "%matplotlib inline"
   ]
  },
  {
   "cell_type": "code",
   "execution_count": 66,
   "metadata": {
    "collapsed": true
   },
   "outputs": [],
   "source": [
    "class Line:\n",
    "    def __init__(self,origin,angle):\n",
    "        self.origin = origin;\n",
    "        self.angle = angle;\n",
    "    def get(self,arr):\n",
    "        y = np.tan(self.angle)*(np.array(arr)-self.origin)\n",
    "        x = np.array(arr);\n",
    "        return np.array([x,y])\n",
    "        \n",
    "class Laser_Scanner:\n",
    "    def __init__(self, num_beams, angle, focal_point):\n",
    "        #assume odd\n",
    "        self.n = num_beams;\n",
    "        self.angle = angle*np.pi/180;\n",
    "        self.focal_point = focal_point;\n",
    "        self.lines = [];\n",
    "        self._create_lines();\n",
    "    def _create_lines(self):\n",
    "        for i in range(0,self.n):\n",
    "            self.lines.append(Line(self.focal_point,(i+-1*int(self.n/2))*self.angle));\n",
    "class Sinusoidal_Curve:\n",
    "    def __init__(self,f=1,offset=2,peak=1):\n",
    "        self.f = f;\n",
    "        self.offset = offset;\n",
    "        self.peak = peak;\n",
    "    \n",
    "    "
   ]
  },
  {
   "cell_type": "code",
   "execution_count": 97,
   "metadata": {
    "collapsed": false,
    "scrolled": true
   },
   "outputs": [
    {
     "name": "stdout",
     "output_type": "stream",
     "text": [
      "Angle = -10.0 \tSlope = -0.176326980708\n",
      "Angle = -5.0 \tSlope = -0.0874886635259\n",
      "Angle = 0.0 \tSlope = 0.0\n",
      "Angle = 5.0 \tSlope = 0.0874886635259\n",
      "Angle = 10.0 \tSlope = 0.176326980708\n"
     ]
    },
    {
     "data": {
      "image/png": "[encoded data removed]",
      "text/plain": [
       "<matplotlib.figure.Figure at 0x7f6c1f529080>"
      ]
     },
     "metadata": {},
     "output_type": "display_data"
    }
   ],
   "source": [
    "ang_diff = []\n",
    "slope_diff = []\n",
    "scanner = Laser_Scanner(5,5,-5)\n",
    "\n",
    "x_min,x_max,x_step = -10,10,0.1\n",
    "x_sweep = np.arange(x_min,x_max,x_step)\n",
    "for line in scanner.lines:\n",
    "    plt.grid();\n",
    "    plt.xlim(x_min,x_max)\n",
    "    plt.ylim(x_min,x_max)\n",
    "    [x,y] = line.get(x_sweep);\n",
    "    plt.plot(x,y)\n",
    "    print(\"Angle =\",line.angle*180/np.pi,\"\\tSlope =\", np.tan(line.angle))\n",
    "    ang_diff.append(line.angle);\n",
    "    slope_diff.append(np.tan(line.angle))"
   ]
  },
  {
   "cell_type": "code",
   "execution_count": 22,
   "metadata": {
    "collapsed": false
   },
   "outputs": [
    {
     "data": {
      "text/plain": [
       "0"
      ]
     },
     "execution_count": 22,
     "metadata": {},
     "output_type": "execute_result"
    }
   ],
   "source": [
    "scanner.focal_point[0]"
   ]
  },
  {
   "cell_type": "code",
   "execution_count": 36,
   "metadata": {
    "collapsed": false
   },
   "outputs": [
    {
     "data": {
      "text/plain": [
       "array([0, 1, 2, 3])"
      ]
     },
     "execution_count": 36,
     "metadata": {},
     "output_type": "execute_result"
    }
   ],
   "source": [
    "np.array([1,2,3,4])-1"
   ]
  },
  {
   "cell_type": "code",
   "execution_count": 19,
   "metadata": {
    "collapsed": false
   },
   "outputs": [
    {
     "data": {
      "text/plain": [
       "0.99999999999999989"
      ]
     },
     "execution_count": 19,
     "metadata": {},
     "output_type": "execute_result"
    }
   ],
   "source": [
    "np.tan(np.pi/4)"
   ]
  },
  {
   "cell_type": "code",
   "execution_count": null,
   "metadata": {
    "collapsed": true
   },
   "outputs": [],
   "source": [
    "np.arctan()"
   ]
  }
 ],
 "metadata": {
  "kernelspec": {
   "display_name": "Python 3",
   "language": "python",
   "name": "python3"
  },
  "language_info": {
   "codemirror_mode": {
    "name": "ipython",
    "version": 3
   },
   "file_extension": ".py",
   "mimetype": "text/x-python",
   "name": "python",
   "nbconvert_exporter": "python",
   "pygments_lexer": "ipython3",
   "version": "3.6.0"
  }
 },
 "nbformat": 4,
 "nbformat_minor": 2
}
